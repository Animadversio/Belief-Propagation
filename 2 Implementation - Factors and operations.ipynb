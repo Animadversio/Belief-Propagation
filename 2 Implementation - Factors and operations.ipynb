{
 "cells": [
  {
   "cell_type": "markdown",
   "metadata": {},
   "source": [
    "# Implementation - Factors and operations"
   ]
  },
  {
   "cell_type": "code",
   "execution_count": 1,
   "metadata": {},
   "outputs": [],
   "source": [
    "import numpy as np"
   ]
  },
  {
   "cell_type": "markdown",
   "metadata": {},
   "source": [
    "## 1 Factor data structure"
   ]
  },
  {
   "cell_type": "code",
   "execution_count": 2,
   "metadata": {},
   "outputs": [],
   "source": [
    "class factor:\n",
    "    def __init__(self, variables = None, distribution = None):\n",
    "        if (variables is None) or (distribution is None):\n",
    "            self.__set_data(None, None, None)\n",
    "        elif (len(variables) == len(distribution.shape)) is False:\n",
    "            raise Exception('Data is incorrect')\n",
    "        else:\n",
    "            self.__set_data(variables, distribution, distribution.shape)\n",
    "    \n",
    "    def __set_data(self, variables, distribution, shape):\n",
    "        self.__variables    = np.array(variables)\n",
    "        self.__distribution = np.array(distribution)\n",
    "        self.__shape        = np.array(shape)\n",
    "    \n",
    "    # ----------------------- Info --------------------------\n",
    "    def is_none(self):\n",
    "        return True if (self.__variables is None) or (self.__distribution is None) else False\n",
    "        \n",
    "    # ----------------------- Getters -----------------------\n",
    "    def get_variables(self):\n",
    "        return self.__variables\n",
    "    \n",
    "    def get_distribution(self):\n",
    "        return self.__distribution\n",
    "    \n",
    "    def get_shape(self):\n",
    "        return self.__shape"
   ]
  },
  {
   "cell_type": "markdown",
   "metadata": {},
   "source": [
    "## 2 Factor operations"
   ]
  },
  {
   "cell_type": "markdown",
   "metadata": {},
   "source": [
    "### 2.1 Factor product"
   ]
  },
  {
   "cell_type": "code",
   "execution_count": 3,
   "metadata": {},
   "outputs": [],
   "source": [
    "def find_indices(base, target):\n",
    "    indices = []\n",
    "    for element in base:\n",
    "        indices.append(np.where(element==target)[0][0])\n",
    "    return np.array(indices)"
   ]
  },
  {
   "cell_type": "code",
   "execution_count": 4,
   "metadata": {},
   "outputs": [],
   "source": [
    "def factor_product(x1, x2):\n",
    "    # Check if factors are None\n",
    "    if x1.is_none() or x2.is_none():\n",
    "        raise Exception('One of the factors is None')\n",
    "    \n",
    "    # Recieve data\n",
    "    x1_variables    = x1.get_variables()\n",
    "    x1_shape        = x1.get_shape()\n",
    "    x1_distribution = x1.get_distribution()\n",
    "    \n",
    "    x2_shape        = x2.get_shape()\n",
    "    x2_variables    = x2.get_variables()\n",
    "    x2_distribution = x2.get_distribution()\n",
    "    \n",
    "    # Check if there is at least one common variables\n",
    "    common_variables = np.intersect1d(x1_variables, x2_variables)\n",
    "    \n",
    "    if common_variables.size == 0:\n",
    "        raise Exception('Factors do not have common variables')\n",
    "        \n",
    "    # Check order of common variables\n",
    "    common_in_x1_indices = find_indices(common_variables, x1_variables)\n",
    "    common_in_x2_indices = find_indices(common_variables, x2_variables)\n",
    "    \n",
    "    if not np.all(x1_shape[common_in_x1_indices] == x2_shape[common_in_x2_indices]):\n",
    "        raise Exception('Common variables have different order')\n",
    "    \n",
    "    # Calculating variables order of factor product\n",
    "    x1_not_in_x2_variables = np.setdiff1d(x1_variables, x2_variables, assume_unique=True)\n",
    "    x2_not_in_x1_variables = np.setdiff1d(x2_variables, x1_variables, assume_unique=True)\n",
    "    \n",
    "    x3_variables         = np.array(list(x1_not_in_x2_variables) + list(common_variables) + list(x2_not_in_x1_variables))\n",
    "    x1_like_x3_variables = np.array(list(x1_not_in_x2_variables) + list(common_variables))\n",
    "    x2_like_x3_variables = np.array(list(common_variables)       + list(x2_not_in_x1_variables))\n",
    "        \n",
    "    # Calculating shape of factor product\n",
    "    x1_in_x3_indices = find_indices(x1_variables, x3_variables)\n",
    "    x2_in_x3_indices = find_indices(x2_variables, x3_variables)\n",
    "    \n",
    "    x3_shape                   = np.zeros(len(x3_variables), dtype=int)\n",
    "    x3_shape[x1_in_x3_indices] = x1_shape\n",
    "    x3_shape[x2_in_x3_indices] = x2_shape\n",
    "    \n",
    "    # Prepare distribution\n",
    "    x1_like_x3_indices = find_indices(x1_variables, x1_like_x3_variables)\n",
    "    x2_like_x3_indices = find_indices(x2_variables, x2_like_x3_variables)\n",
    "    \n",
    "    x1_like_x3_distribution = np.moveaxis(x1_distribution, list(range(len(x1_variables))), x1_like_x3_indices)\n",
    "    x2_like_x3_distribution = np.moveaxis(x2_distribution, list(range(len(x2_variables))), x2_like_x3_indices)\n",
    "    \n",
    "    # Calculating factor product itself\n",
    "    x3_distribution = np.reshape(np.zeros(int(np.prod(x3_shape))), x3_shape)\n",
    "    \n",
    "    x2_not_in_x1_in_x3_indices = find_indices(x2_not_in_x1_variables, x3_variables)\n",
    "    x2_not_in_x1_in_x3_shape   = x3_shape[x2_not_in_x1_in_x3_indices]\n",
    "    \n",
    "    x2_not_in_x1_in_x2_like_x3_indices = find_indices(x2_not_in_x1_variables, x2_like_x3_variables)\n",
    "    \n",
    "    for i in np.ndindex(tuple(x2_not_in_x1_in_x3_shape)):\n",
    "        x3_indices = np.array([slice(None)]*len(x3_shape))\n",
    "        x3_indices[x2_not_in_x1_in_x3_indices] = i\n",
    "        \n",
    "        x2_indices = np.array([slice(None)]*len(x2_shape))\n",
    "        x2_indices[x2_not_in_x1_in_x2_like_x3_indices] = i\n",
    "        \n",
    "        x3_distribution[tuple(x3_indices)] = x1_like_x3_distribution * x2_like_x3_distribution[tuple(x2_indices)]\n",
    "    \n",
    "    # Create factor\n",
    "    x3 = factor(x3_variables, x3_distribution)\n",
    "    \n",
    "    return x3"
   ]
  },
  {
   "cell_type": "markdown",
   "metadata": {},
   "source": [
    "#### Example 1: simple factor product"
   ]
  },
  {
   "cell_type": "code",
   "execution_count": 5,
   "metadata": {},
   "outputs": [],
   "source": [
    "f1 = np.array([[0.,0.], [0.,0.], [0.,0.]])\n",
    "\n",
    "f1[0,0] = 0.5\n",
    "f1[0,1] = 0.8\n",
    "f1[1,0] = 0.1\n",
    "f1[1,1] = 0.0\n",
    "f1[2,0] = 0.3\n",
    "f1[2,1] = 0.9\n",
    "\n",
    "phi_1 = factor(['a', 'b'], f1)"
   ]
  },
  {
   "cell_type": "code",
   "execution_count": 6,
   "metadata": {},
   "outputs": [],
   "source": [
    "f2 = np.array([[0.,0.], [0.,0.]])\n",
    "\n",
    "f2[0,0] = 0.5\n",
    "f2[0,1] = 0.7\n",
    "f2[1,0] = 0.1\n",
    "f2[1,1] = 0.2\n",
    "\n",
    "phi_2 = factor(['b', 'c'], f2)"
   ]
  },
  {
   "cell_type": "code",
   "execution_count": 7,
   "metadata": {},
   "outputs": [],
   "source": [
    "phi_3 = factor_product(phi_1, phi_2)"
   ]
  },
  {
   "cell_type": "code",
   "execution_count": 8,
   "metadata": {},
   "outputs": [
    {
     "data": {
      "text/plain": [
       "array(['a', 'b', 'c'], dtype='<U1')"
      ]
     },
     "execution_count": 8,
     "metadata": {},
     "output_type": "execute_result"
    }
   ],
   "source": [
    "phi_3.get_variables()"
   ]
  },
  {
   "cell_type": "markdown",
   "metadata": {},
   "source": [
    "#### Example 2: computing joint distribution"
   ]
  },
  {
   "cell_type": "markdown",
   "metadata": {},
   "source": [
    "### 2.2 Factor marginalization"
   ]
  },
  {
   "cell_type": "code",
   "execution_count": 9,
   "metadata": {},
   "outputs": [],
   "source": [
    "def factor_marginalization(x, variables):\n",
    "    variables = np.array(variables)\n",
    "    \n",
    "    if x.is_none():\n",
    "        raise Exception('Factor is None')\n",
    "    \n",
    "    if not np.all(np.in1d(variables, x.get_variables())):\n",
    "        raise Exception('Factor do not contain given variables')\n",
    "    \n",
    "    res_variables    = np.setdiff1d(x.get_variables(), variables, assume_unique=True)\n",
    "    res_distribution = np.sum(x.get_distribution(),\n",
    "                              tuple(np.where(np.isin(x.get_variables(), variables))[0]))\n",
    "    \n",
    "    return factor(res_variables, res_distribution)"
   ]
  },
  {
   "cell_type": "markdown",
   "metadata": {},
   "source": [
    "#### Example"
   ]
  },
  {
   "cell_type": "code",
   "execution_count": 10,
   "metadata": {},
   "outputs": [],
   "source": [
    "phi_4 = factor_marginalization(phi_3, ['b'])"
   ]
  },
  {
   "cell_type": "code",
   "execution_count": 11,
   "metadata": {
    "scrolled": true
   },
   "outputs": [
    {
     "data": {
      "text/plain": [
       "array(['a', 'c'], dtype='<U1')"
      ]
     },
     "execution_count": 11,
     "metadata": {},
     "output_type": "execute_result"
    }
   ],
   "source": [
    "phi_4.get_variables()"
   ]
  },
  {
   "cell_type": "markdown",
   "metadata": {},
   "source": [
    "### 2.3 Factor reduction"
   ]
  },
  {
   "cell_type": "code",
   "execution_count": 12,
   "metadata": {},
   "outputs": [],
   "source": [
    "def factor_reduction(x, variable, value):\n",
    "    if x.is_none() or (variable is None) or (value is None):\n",
    "        raise Exception('Input is None')\n",
    "    \n",
    "    if not np.any(variable == x.get_variables()):\n",
    "        raise Exception('Factor do not contain given variable')\n",
    "    \n",
    "    if value >= x.get_shape()[np.where(variable==x.get_variables())[0]]:\n",
    "        raise Exception('Incorrect value of given variable')\n",
    "    \n",
    "    res_variables    = np.setdiff1d(x.get_variables(), variable, assume_unique=True)\n",
    "    res_distribution = np.take(x.get_distribution(),\n",
    "                               value,\n",
    "                               int(np.where(variable==x.get_variables())[0]))\n",
    "    \n",
    "    return factor(res_variables, res_distribution)"
   ]
  },
  {
   "cell_type": "markdown",
   "metadata": {},
   "source": [
    "#### Example"
   ]
  },
  {
   "cell_type": "code",
   "execution_count": 13,
   "metadata": {},
   "outputs": [
    {
     "data": {
      "text/plain": [
       "array(['a', 'b'], dtype='<U1')"
      ]
     },
     "execution_count": 13,
     "metadata": {},
     "output_type": "execute_result"
    }
   ],
   "source": [
    "factor_reduction(phi_3, 'c', 0).get_variables()"
   ]
  },
  {
   "cell_type": "markdown",
   "metadata": {},
   "source": [
    "### 2.4 Joint distribution"
   ]
  },
  {
   "cell_type": "code",
   "execution_count": 14,
   "metadata": {},
   "outputs": [],
   "source": [
    "def joint_distribution(ar):\n",
    "    for element in ar:\n",
    "        if element.is_none():\n",
    "            raise Exception('Factor is None')\n",
    "    \n",
    "    res = ar[0]\n",
    "    for element in ar[1:]:\n",
    "        res = factor_product(res, element)\n",
    "    \n",
    "    return res"
   ]
  },
  {
   "cell_type": "markdown",
   "metadata": {},
   "source": [
    "#### Example"
   ]
  },
  {
   "cell_type": "code",
   "execution_count": 15,
   "metadata": {
    "scrolled": true
   },
   "outputs": [
    {
     "data": {
      "text/plain": [
       "array(['a', 'b', 'c'], dtype='<U1')"
      ]
     },
     "execution_count": 15,
     "metadata": {},
     "output_type": "execute_result"
    }
   ],
   "source": [
    "joint_distribution([phi_1, phi_2]).get_variables()"
   ]
  }
 ],
 "metadata": {
  "kernelspec": {
   "display_name": "Python 3",
   "language": "python",
   "name": "python3"
  },
  "language_info": {
   "codemirror_mode": {
    "name": "ipython",
    "version": 3
   },
   "file_extension": ".py",
   "mimetype": "text/x-python",
   "name": "python",
   "nbconvert_exporter": "python",
   "pygments_lexer": "ipython3",
   "version": "3.7.3"
  }
 },
 "nbformat": 4,
 "nbformat_minor": 2
}
