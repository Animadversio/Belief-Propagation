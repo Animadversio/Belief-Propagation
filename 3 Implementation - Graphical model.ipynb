{
 "cells": [
  {
   "cell_type": "markdown",
   "metadata": {},
   "source": [
    "# Implementation - Graphical model"
   ]
  },
  {
   "cell_type": "code",
   "execution_count": 1,
   "metadata": {},
   "outputs": [],
   "source": [
    "import numpy  as np\n",
    "import igraph as ig\n",
    "import pyvis.network as net\n",
    "%run ./2\\ Implementation\\ -\\ Factors\\ and\\ operations.ipynb"
   ]
  },
  {
   "cell_type": "markdown",
   "metadata": {},
   "source": [
    "# 1 Factor graph"
   ]
  },
  {
   "cell_type": "markdown",
   "metadata": {},
   "source": [
    "### 1.1 Factor graph data structure"
   ]
  },
  {
   "cell_type": "code",
   "execution_count": 2,
   "metadata": {},
   "outputs": [],
   "source": [
    "class factor_graph:\n",
    "    def __init__(self):\n",
    "        self._graph = ig.Graph()\n",
    "    \n",
    "    # ----------------------- Factor node actions -----------\n",
    "    def add_factor_node(self, name, factor_):\n",
    "        if self.__check_variable(name, exception=True) != False:\n",
    "            raise Exception('Invalid name')\n",
    "        if type(factor_) is not factor:\n",
    "            raise Exception('Data is not factor')\n",
    "        if name in factor_.get_variables():\n",
    "            raise Exception('Invalid factor name')\n",
    "            \n",
    "        for var_name in factor_.get_variables():\n",
    "            if self.__check_variable(var_name) == False:\n",
    "                self.__create_variable_node(var_name)\n",
    "            \n",
    "        self._graph.add_vertex(name)\n",
    "        self._graph.vs.find(name=name)['is_factor']   = True\n",
    "        self._graph.vs.find(name=name)['factor_node'] = factor_\n",
    "            \n",
    "        start = self._graph.vs.find(name=name).index\n",
    "        edge_list = [tuple([start, self._graph.vs.find(name=i).index]) for i in factor_.get_variables()]\n",
    "        self._graph.add_edges(edge_list)\n",
    "        \n",
    "    #def change_factor(self, name, factor_, remove_zero_deg_var=False):\n",
    "        \n",
    "    def remove_factor(self, name, remove_zero_deg_var=False):\n",
    "        self.__check_variable(name, exception=True, target='factor')\n",
    "        \n",
    "        factor_neighbors = self._graph.neighbors(name, mode=\"out\")\n",
    "        g.delete_vertices(name)\n",
    "        \n",
    "        if remove_zero_deg_var:\n",
    "            for var_name in factor_neighbors:\n",
    "                if g.vs.find(var_name).degree() == 0:\n",
    "                    remove_variable(self, var_name)\n",
    "        \n",
    "    \n",
    "    # ----------------------- Variable node actions ---------\n",
    "    def add_variable_node(self, name):\n",
    "        self.__check_variable(name, exception=True)\n",
    "        self.__create_variable_node(name)\n",
    "    \n",
    "    def remove_variable(self, name):\n",
    "        self.__check_variable(name, exception=True, target='variable')\n",
    "        if self._graph.vs.find(name).degree() == 0:\n",
    "            self._graph.delete_vertices(self._graph.vs.find(name).index)\n",
    "        else:\n",
    "            raise Exception('Can not delete variables with degree >0')\n",
    "            \n",
    "    def __create_variable_node(self, name):\n",
    "        self._graph.add_vertex(name)\n",
    "        self._graph.vs.find(name=name)['is_factor'] = False\n",
    "        \n",
    "    # ----------------------- Info --------------------------\n",
    "    def get_variable_status(self, name):\n",
    "        return self.__check_variable(name)\n",
    "    \n",
    "    def __check_variable(self, name, exception=False, target=None):\n",
    "        if len(self._graph.vs) == 0:\n",
    "            return False\n",
    "        elif len(self._graph.vs.select(name_eq=name)) == 0:\n",
    "            return False\n",
    "        else:\n",
    "            if self._graph.vs.find(name=name)['is_factor'] == True:\n",
    "                if (target == 'variable') and exception: raise Exception('Factor name. Variable expected')\n",
    "                return 'factor'\n",
    "            else:\n",
    "                if (target == 'factor') and exception: raise Exception('Variable name. Factor expected')\n",
    "                return 'variable'\n",
    "    \n",
    "    # ----------------------- Graph structure ---------------\n",
    "    def is_connected(self):\n",
    "        self._graph.is_connected()\n",
    "        \n",
    "    def is_tree(self):\n",
    "        self._graph.is_tree()"
   ]
  },
  {
   "cell_type": "markdown",
   "metadata": {},
   "source": [
    "#### Example"
   ]
  },
  {
   "cell_type": "code",
   "execution_count": 3,
   "metadata": {},
   "outputs": [],
   "source": [
    "fg = factor_graph()\n",
    "fg.add_factor_node('p1', factor(['x1', 'x2', 'x3']))\n",
    "fg.add_factor_node('p2', factor(['x2', 'x4']))"
   ]
  },
  {
   "cell_type": "markdown",
   "metadata": {},
   "source": [
    "### 1.2 Factor graph from string"
   ]
  },
  {
   "cell_type": "code",
   "execution_count": 4,
   "metadata": {},
   "outputs": [],
   "source": [
    "def string2factor_graph(str_):\n",
    "    res_factor_graph = factor_graph()\n",
    "    \n",
    "    str_ = [i.split('(') for i in str_.split(')') if i != '']\n",
    "    for i in range(len(str_)):\n",
    "        str_[i][1] = str_[i][1].split(',')\n",
    "        \n",
    "    for i in str_:\n",
    "        res_factor_graph.add_factor_node(i[0], factor(i[1]))\n",
    "    \n",
    "    return res_factor_graph"
   ]
  },
  {
   "cell_type": "markdown",
   "metadata": {},
   "source": [
    "#### Example"
   ]
  },
  {
   "cell_type": "code",
   "execution_count": 5,
   "metadata": {},
   "outputs": [
    {
     "data": {
      "text/plain": [
       "<__main__.factor_graph at 0xa2166eb00>"
      ]
     },
     "execution_count": 5,
     "metadata": {},
     "output_type": "execute_result"
    }
   ],
   "source": [
    "string2factor_graph('phi_1(a,b,c)phi_2(b,d,e)')"
   ]
  },
  {
   "cell_type": "markdown",
   "metadata": {},
   "source": [
    "### 1.3 Factor graph visualization"
   ]
  },
  {
   "cell_type": "code",
   "execution_count": 6,
   "metadata": {},
   "outputs": [],
   "source": [
    "def plot_factor_graph(x):\n",
    "    graph = net.Network(notebook=True, width=\"100%\")\n",
    "    graph.toggle_physics(False)\n",
    "    \n",
    "    # Vertices\n",
    "    label = x._graph.vs['name']\n",
    "    color = ['#2E2E2E' if i is True else '#F2F2F2' for i in x._graph.vs['is_factor']]\n",
    "    graph.add_nodes(range(len(x._graph.vs)), label=label, color=color)\n",
    "    \n",
    "    # Edges\n",
    "    graph.add_edges(x._graph.get_edgelist())\n",
    "    \n",
    "    return graph.show(\"graph.html\")"
   ]
  },
  {
   "cell_type": "markdown",
   "metadata": {},
   "source": [
    "#### Example"
   ]
  }
 ],
 "metadata": {
  "kernelspec": {
   "display_name": "Python 3",
   "language": "python",
   "name": "python3"
  },
  "language_info": {
   "codemirror_mode": {
    "name": "ipython",
    "version": 3
   },
   "file_extension": ".py",
   "mimetype": "text/x-python",
   "name": "python",
   "nbconvert_exporter": "python",
   "pygments_lexer": "ipython3",
   "version": "3.7.3"
  }
 },
 "nbformat": 4,
 "nbformat_minor": 2
}
