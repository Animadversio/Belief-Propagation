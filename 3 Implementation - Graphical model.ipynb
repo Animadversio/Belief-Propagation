{
 "cells": [
  {
   "cell_type": "markdown",
   "metadata": {},
   "source": [
    "# Implementation - Graphical model"
   ]
  },
  {
   "cell_type": "code",
   "execution_count": 37,
   "metadata": {},
   "outputs": [],
   "source": [
    "import numpy  as np\n",
    "import igraph as ig\n",
    "import pyvis  as pv\n",
    "%run ./2\\ Implementation\\ -\\ Factors\\ and\\ operations.ipynb"
   ]
  },
  {
   "cell_type": "markdown",
   "metadata": {},
   "source": [
    "# 1 Factor graph"
   ]
  },
  {
   "cell_type": "markdown",
   "metadata": {},
   "source": [
    "### 1.1 Factor-node data structure"
   ]
  },
  {
   "cell_type": "code",
   "execution_count": 38,
   "metadata": {},
   "outputs": [],
   "source": [
    "class factor_node:\n",
    "    def __init__(self, name, f=None):\n",
    "        self.name = name\n",
    "        if type(f) is factor:\n",
    "            self.__set_data(f)\n",
    "        elif f is not None:\n",
    "            raise Exception('Data is not factor or None')\n",
    "    \n",
    "    def __set_data(self, data):\n",
    "        self.f = f\n",
    "        \n",
    "    def change_data(self, variables, distribution):\n",
    "        if type(f) is factor:\n",
    "            self.__set_data(factor(variables, distribution))\n",
    "        else:\n",
    "            raise Exception('Data is not factor')"
   ]
  },
  {
   "cell_type": "markdown",
   "metadata": {},
   "source": [
    "### 1.2 Factor-variable data structure"
   ]
  },
  {
   "cell_type": "markdown",
   "metadata": {},
   "source": [
    "### 1.3 Factor graph data structure"
   ]
  },
  {
   "cell_type": "code",
   "execution_count": 41,
   "metadata": {},
   "outputs": [],
   "source": [
    "class factor_graph:\n",
    "    def __init__(self):\n",
    "        self.graph = ig.Graph()\n",
    "    \n",
    "    # ----------------------- Factor node actions -----------\n",
    "    #def add_factor():\n",
    "    #def change_factor():\n",
    "    #def remove_factor():\n",
    "    \n",
    "    # ----------------------- Variable node actions ---------\n",
    "    #def add_variable():\n",
    "    #def remove_variable():"
   ]
  },
  {
   "cell_type": "markdown",
   "metadata": {},
   "source": [
    "### 1.4 Factor graph from string"
   ]
  },
  {
   "cell_type": "code",
   "execution_count": 40,
   "metadata": {},
   "outputs": [],
   "source": [
    "#def string2factor_graph():"
   ]
  },
  {
   "cell_type": "markdown",
   "metadata": {},
   "source": [
    "### 1.5 Factor graph visualization"
   ]
  }
 ],
 "metadata": {
  "kernelspec": {
   "display_name": "Python 3",
   "language": "python",
   "name": "python3"
  },
  "language_info": {
   "codemirror_mode": {
    "name": "ipython",
    "version": 3
   },
   "file_extension": ".py",
   "mimetype": "text/x-python",
   "name": "python",
   "nbconvert_exporter": "python",
   "pygments_lexer": "ipython3",
   "version": "3.7.3"
  }
 },
 "nbformat": 4,
 "nbformat_minor": 2
}
