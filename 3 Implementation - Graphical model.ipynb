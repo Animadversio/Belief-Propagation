{
 "cells": [
  {
   "cell_type": "markdown",
   "metadata": {},
   "source": [
    "# Implementation - Graphical model"
   ]
  },
  {
   "cell_type": "code",
   "execution_count": 1,
   "metadata": {},
   "outputs": [],
   "source": [
    "import numpy  as np\n",
    "import igraph as ig\n",
    "import pyvis.network as net\n",
    "%run ./2\\ Implementation\\ -\\ Factors\\ and\\ operations.ipynb"
   ]
  },
  {
   "cell_type": "markdown",
   "metadata": {},
   "source": [
    "# 1 Factor graph"
   ]
  },
  {
   "cell_type": "markdown",
   "metadata": {},
   "source": [
    "### 1.1 Factor graph data structure"
   ]
  },
  {
   "cell_type": "code",
   "execution_count": 2,
   "metadata": {},
   "outputs": [],
   "source": [
    "class factor_graph:\n",
    "    def __init__(self):\n",
    "        self._graph = ig.Graph()\n",
    "    \n",
    "    # ----------------------- Factor node actions -----------\n",
    "    def add_factor_node(self, name, factor_):\n",
    "        if type(factor_) is not factor:\n",
    "            raise Exception('Data is not factor_')\n",
    "        else:\n",
    "            for var_name in factor_.get_variables():\n",
    "                if not self.check_variable(var_name):\n",
    "                    self.__create_var_node(var_name)\n",
    "            \n",
    "            self._graph.add_vertex(name)\n",
    "            self._graph.vs.find(name=name)['is_factor']   = True\n",
    "            self._graph.vs.find(name=name)['factor_node'] = factor_\n",
    "            \n",
    "            start = self._graph.vs.find(name=name).index\n",
    "            edge_list = [tuple([start, self._graph.vs.find(name=i).index]) for i in factor_.get_variables()]\n",
    "            \n",
    "            self._graph.add_edges(edge_list)\n",
    "        \n",
    "    #def change_factor():\n",
    "    #def remove_factor():\n",
    "    \n",
    "    # ----------------------- Variable node actions ---------\n",
    "    def check_variable(self, name):\n",
    "        if len(self._graph.vs) == 0:\n",
    "            return False\n",
    "        elif len(self._graph.vs.select(name_eq=name)) != 0:\n",
    "            return True\n",
    "        else:\n",
    "            return False\n",
    "    \n",
    "    def add_variable_node(self, name):\n",
    "        if self.check_variable(name):\n",
    "            raise Exception('Variable is already in factor-graph')\n",
    "        else:\n",
    "            self.__create_var_node(name)\n",
    "            \n",
    "    def __create_var_node(self, name):\n",
    "        self._graph.add_vertex(name)\n",
    "        self._graph.vs.find(name=name)['is_factor'] = False\n",
    "        \n",
    "    #def remove_variable():"
   ]
  },
  {
   "cell_type": "markdown",
   "metadata": {},
   "source": [
    "#### Example"
   ]
  },
  {
   "cell_type": "code",
   "execution_count": 3,
   "metadata": {},
   "outputs": [],
   "source": [
    "fg = factor_graph()\n",
    "fg.add_factor_node('p1', factor(['x1', 'x2', 'x3']))\n",
    "fg.add_factor_node('p2', factor(['x2', 'x4']))"
   ]
  },
  {
   "cell_type": "markdown",
   "metadata": {},
   "source": [
    "### 1.2 Factor graph from string"
   ]
  },
  {
   "cell_type": "code",
   "execution_count": 4,
   "metadata": {},
   "outputs": [],
   "source": [
    "#def string2factor_graph():"
   ]
  },
  {
   "cell_type": "markdown",
   "metadata": {},
   "source": [
    "### 1.3 Factor graph visualization"
   ]
  },
  {
   "cell_type": "code",
   "execution_count": 5,
   "metadata": {},
   "outputs": [],
   "source": [
    "def plot_factor_graph(x):\n",
    "    graph = net.Network(notebook=True, width=\"100%\")\n",
    "    \n",
    "    # Vertices\n",
    "    label = x._graph.vs['name']\n",
    "    color = ['#2E2E2E' if i is True else '#F2F2F2' for i in x._graph.vs['is_factor']]\n",
    "    graph.add_nodes(range(len(x._graph.vs)), label=label, color=color)\n",
    "    \n",
    "    graph.add_edges(x._graph.get_edgelist())\n",
    "    \n",
    "    graph.toggle_physics(False)\n",
    "    \n",
    "    return graph.show(\"graph.html\")"
   ]
  }
 ],
 "metadata": {
  "kernelspec": {
   "display_name": "Python 3",
   "language": "python",
   "name": "python3"
  },
  "language_info": {
   "codemirror_mode": {
    "name": "ipython",
    "version": 3
   },
   "file_extension": ".py",
   "mimetype": "text/x-python",
   "name": "python",
   "nbconvert_exporter": "python",
   "pygments_lexer": "ipython3",
   "version": "3.7.3"
  }
 },
 "nbformat": 4,
 "nbformat_minor": 2
}
