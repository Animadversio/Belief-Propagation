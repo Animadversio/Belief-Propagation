{
 "cells": [
  {
   "cell_type": "markdown",
   "metadata": {},
   "source": [
    "# Implementation - Graphical model"
   ]
  },
  {
   "cell_type": "markdown",
   "metadata": {},
   "source": [
    "[```igraph```](https://github.com/igraph/python-igraph) package is required since it is used for internal representation of a probabilistic graphical model. [```pyvis```](https://pyvis.readthedocs.io) is optional and it is needed for creating fancy interactive visualizations."
   ]
  },
  {
   "cell_type": "code",
   "execution_count": 1,
   "metadata": {},
   "outputs": [],
   "source": [
    "import numpy  as np\n",
    "import igraph as ig\n",
    "%run ./2\\ Implementation\\ -\\ Factors\\ and\\ operations.ipynb\n",
    "# optional package\n",
    "import pyvis.network as net"
   ]
  },
  {
   "cell_type": "markdown",
   "metadata": {},
   "source": [
    "## 1 PGM\n",
    "\n",
    "We are going to stick with factor graphs since every Bayesian network and Markov network can be converted to this representation."
   ]
  },
  {
   "cell_type": "markdown",
   "metadata": {},
   "source": [
    "### 1.1 Factor graph data structure\n",
    "\n",
    "As already mentioned the core of factor graph data structure is an ```igraph``` graph. Each node necessarily has the following attributes:\n",
    "\n",
    "* ```name``` attribute serves as a unique ```string``` identifier either of a factor node or a variable node\n",
    "* ```is_factor``` is a boolean indicator\n",
    "* ```factor_``` attribute is `None` for a variable node and stores a ```factor``` data structure for a factor node"
   ]
  },
  {
   "cell_type": "code",
   "execution_count": 2,
   "metadata": {},
   "outputs": [],
   "source": [
    "class factor_graph:\n",
    "    def __init__(self):\n",
    "        self._graph = ig.Graph()\n",
    "    \n",
    "    # ----------------------- Factor node actions -----------\n",
    "    def add_factor_node(self, f_name, factor_):\n",
    "        if self.__check_node(f_name, exception=True) != False:\n",
    "            raise Exception('Invalid name')\n",
    "        if f_name in factor_.get_variables():\n",
    "            raise Exception('Invalid factor name')\n",
    "        if type(factor_) is not factor:\n",
    "            raise Exception('Data is not factor')\n",
    "            \n",
    "        for v_name in factor_.get_variables():\n",
    "            if self.__check_node(v_name) == False:\n",
    "                self.__create_variable_node(v_name)\n",
    "            \n",
    "        self._graph.add_vertex(f_name)\n",
    "        self._graph.vs.find(name=f_name)['is_factor'] = True\n",
    "        self._graph.vs.find(name=f_name)['factor_']   = factor_\n",
    "            \n",
    "        start = self._graph.vs.find(name=f_name).index\n",
    "        edge_list = [tuple([start, self._graph.vs.find(name=i).index]) for i in factor_.get_variables()]\n",
    "        self._graph.add_edges(edge_list)\n",
    "        \n",
    "    #def change_factor(self, name, factor_, remove_zero_deg_var=False):\n",
    "        \n",
    "    def remove_factor(self, f_name, remove_zero_degree=False):\n",
    "        self.__check_node(f_name, exception=True, target='factor')\n",
    "        \n",
    "        f_neighbors = self._graph.neighbors(f_name, mode=\"out\")\n",
    "        g.delete_vertices(f_name)\n",
    "        \n",
    "        if remove_zero_degree:\n",
    "            for v_name in factor_neighbors:\n",
    "                if g.vs.find(v_name).degree() == 0:\n",
    "                    remove_variable(self, v_name)\n",
    "        \n",
    "    \n",
    "    # ----------------------- Variable node actions ---------\n",
    "    def add_variable_node(self, v_name):\n",
    "        self.__check_node(v_name, exception=True)\n",
    "        self.__create_variable_node(v_name)\n",
    "    \n",
    "    def remove_variable(self, v_name):\n",
    "        self.__check_node(v_name, exception=True, target='variable')\n",
    "        if self._graph.vs.find(v_name).degree() == 0:\n",
    "            self._graph.delete_vertices(self._graph.vs.find(v_name).index)\n",
    "        else:\n",
    "            raise Exception('Can not delete variables with degree >0')\n",
    "            \n",
    "    def __create_variable_node(self, v_name):\n",
    "        self._graph.add_vertex(v_name)\n",
    "        self._graph.vs.find(name=v_name)['is_factor'] = False\n",
    "        \n",
    "    # ----------------------- Info --------------------------\n",
    "    def get_node_status(self, name):\n",
    "        return self.__check_node(name)\n",
    "    \n",
    "    def __check_node(self, name, exception=False, target=None):\n",
    "        if len(self._graph.vs) == 0:\n",
    "            return False\n",
    "        elif len(self._graph.vs.select(name_eq=name)) == 0:\n",
    "            return False\n",
    "        else:\n",
    "            if self._graph.vs.find(name=name)['is_factor'] == True:\n",
    "                if (target == 'variable') and exception: raise Exception('Factor name. Variable expected')\n",
    "                return 'factor'\n",
    "            else:\n",
    "                if (target == 'factor') and exception: raise Exception('Variable name. Factor expected')\n",
    "                return 'variable'\n",
    "    \n",
    "    # ----------------------- Graph structure ---------------\n",
    "    def get_graph(self):\n",
    "        return self._graph\n",
    "    \n",
    "    def is_connected(self):\n",
    "        return self._graph.is_connected()\n",
    "        \n",
    "    def is_tree(self):\n",
    "        return self._graph.is_tree()"
   ]
  },
  {
   "cell_type": "markdown",
   "metadata": {},
   "source": [
    "#### Example\n",
    "\n",
    "Let's create a simple graphical model."
   ]
  },
  {
   "cell_type": "code",
   "execution_count": 3,
   "metadata": {},
   "outputs": [],
   "source": [
    "pgm_1 = factor_graph()\n",
    "pgm_1.add_factor_node('p1', factor(['x1', 'x2', 'x3']))\n",
    "pgm_1.add_factor_node('p2', factor(['x2', 'x4']))"
   ]
  },
  {
   "cell_type": "markdown",
   "metadata": {},
   "source": [
    "### 1.2 Factor graph from string"
   ]
  },
  {
   "cell_type": "code",
   "execution_count": 4,
   "metadata": {},
   "outputs": [],
   "source": [
    "def string2factor_graph(str_):\n",
    "    res_factor_graph = factor_graph()\n",
    "    \n",
    "    str_ = [i.split('(') for i in str_.split(')') if i != '']\n",
    "    for i in range(len(str_)):\n",
    "        str_[i][1] = str_[i][1].split(',')\n",
    "        \n",
    "    for i in str_:\n",
    "        res_factor_graph.add_factor_node(i[0], factor(i[1]))\n",
    "    \n",
    "    return res_factor_graph"
   ]
  },
  {
   "cell_type": "markdown",
   "metadata": {},
   "source": [
    "#### Example"
   ]
  },
  {
   "cell_type": "code",
   "execution_count": 5,
   "metadata": {},
   "outputs": [],
   "source": [
    "pgm_2 = string2factor_graph('phi_1(a,b,c)phi_2(b,c,d,e)psi_3(e,c)psi_4(d)')"
   ]
  },
  {
   "cell_type": "markdown",
   "metadata": {},
   "source": [
    "---"
   ]
  },
  {
   "cell_type": "markdown",
   "metadata": {},
   "source": [
    "## 2 Plotting\n",
    "\n",
    "The default way of plotting internal graph is ```plot(x.get_graph())```. ```plot_factor_graph``` does interactive plotting using the ```pyvis``` package."
   ]
  },
  {
   "cell_type": "code",
   "execution_count": 6,
   "metadata": {},
   "outputs": [],
   "source": [
    "def plot_factor_graph(x):\n",
    "    graph = net.Network(notebook=True, width=\"100%\")\n",
    "    graph.toggle_physics(False)\n",
    "    \n",
    "    # Vertices\n",
    "    label = x.get_graph().vs['name']\n",
    "    color = ['#2E2E2E' if i is True else '#F2F2F2' for i in x.get_graph().vs['is_factor']]\n",
    "    graph.add_nodes(range(len(x.get_graph().vs)), label=label, color=color)\n",
    "    \n",
    "    # Edges\n",
    "    graph.add_edges(x.get_graph().get_edgelist())\n",
    "    \n",
    "    return graph.show(\"./img/3 Implementation - Graphical model/graph.html\")"
   ]
  },
  {
   "cell_type": "markdown",
   "metadata": {},
   "source": [
    "#### Example"
   ]
  },
  {
   "cell_type": "code",
   "execution_count": 7,
   "metadata": {},
   "outputs": [
    {
     "data": {
      "text/html": [
       "\n",
       "        <iframe\n",
       "            width=\"100%\"\n",
       "            height=\"500px\"\n",
       "            src=\"./img/3 Implementation - Graphical model/graph.html\"\n",
       "            frameborder=\"0\"\n",
       "            allowfullscreen\n",
       "        ></iframe>\n",
       "        "
      ],
      "text/plain": [
       "<IPython.lib.display.IFrame at 0xa19aaa2e8>"
      ]
     },
     "execution_count": 7,
     "metadata": {},
     "output_type": "execute_result"
    }
   ],
   "source": [
    "plot_factor_graph(pgm_2)"
   ]
  }
 ],
 "metadata": {
  "kernelspec": {
   "display_name": "Python 3",
   "language": "python",
   "name": "python3"
  },
  "language_info": {
   "codemirror_mode": {
    "name": "ipython",
    "version": 3
   },
   "file_extension": ".py",
   "mimetype": "text/x-python",
   "name": "python",
   "nbconvert_exporter": "python",
   "pygments_lexer": "ipython3",
   "version": "3.7.3"
  }
 },
 "nbformat": 4,
 "nbformat_minor": 2
}
