{
 "cells": [
  {
   "cell_type": "markdown",
   "metadata": {},
   "source": [
    "# Implementation - Belief Propagation"
   ]
  },
  {
   "cell_type": "code",
   "execution_count": 1,
   "metadata": {},
   "outputs": [],
   "source": [
    "import numpy  as np\n",
    "import igraph as ig\n",
    "\n",
    "import matplotlib.pyplot as plt\n",
    "plt.rc(\"text\", usetex=True)\n",
    "\n",
    "%run ./2-ImplementationFactor.ipynb\n",
    "%run ./3-ImplementationPGM.ipynb"
   ]
  },
  {
   "cell_type": "markdown",
   "metadata": {},
   "source": [
    "## 1 BP\n"
   ]
  },
  {
   "cell_type": "markdown",
   "metadata": {},
   "source": [
    "We create a class ```belief_propagation``` and store messages in ```self.__msg ``` since they can be reused in further calculations. Also there is ```self.__pgm``` field for a factor graph.\n",
    "\n",
    "Note, that we normalize each message in order to avoid numerical underflow/overflow."
   ]
  },
  {
   "cell_type": "code",
   "execution_count": 2,
   "metadata": {},
   "outputs": [],
   "source": [
    "class belief_propagation():\n",
    "    def __init__(self, pgm):\n",
    "        if type(pgm) is not factor_graph:\n",
    "            raise Exception('PGM is not a factor graph')\n",
    "        if not (pgm.is_connected() and not pgm.is_loop()):\n",
    "            raise Exception('PGM is not a tree')\n",
    "        \n",
    "        self.__msg = {}\n",
    "        self.__pgm = pgm\n",
    "    \n",
    "    def belief(self, v_name):\n",
    "        incoming_messages = []\n",
    "        for f_name_neighbor in self.__pgm.get_graph().vs[self.__pgm.get_graph().neighbors(v_name)]['name']:\n",
    "            incoming_messages.append(self.get_factor2variable_msg(f_name_neighbor, v_name))\n",
    "        return self.__normalize_msg(joint_distribution(incoming_messages))\n",
    "    \n",
    "    # ----------------------- Variable to factor ------------\n",
    "    def get_variable2factor_msg(self, v_name, f_name):\n",
    "        key = (v_name, f_name)\n",
    "        if key not in self.__msg:\n",
    "            self.__msg[key] = self.__compute_variable2factor_msg(v_name, f_name)\n",
    "        return self.__msg[key]\n",
    "    \n",
    "    def __compute_variable2factor_msg(self, v_name, f_name):\n",
    "        incoming_messages = []\n",
    "        for f_name_neighbor in self.__pgm.get_graph().vs[self.__pgm.get_graph().neighbors(v_name)]['name']:\n",
    "            if f_name_neighbor != f_name:\n",
    "                incoming_messages.append(self.get_factor2variable_msg(f_name_neighbor, v_name))\n",
    "        \n",
    "        if not incoming_messages:\n",
    "            # if the variable does not have its own distribution\n",
    "            return factor([v_name], np.array([1.]*self.__pgm.get_graph().vs.find(name=v_name)['rank']))\n",
    "        else:\n",
    "            # Since all messages have the same dimension (1, order of v_name) the expression after\n",
    "            # ```return``` is equivalent to ```factor(v_name, np.prod(incoming_messages))```\n",
    "            return self.__normalize_msg(joint_distribution(incoming_messages))\n",
    "    \n",
    "    # ----------------------- Factor to variable ------------\n",
    "    def get_factor2variable_msg(self, f_name, v_name):\n",
    "        key = (f_name, v_name)\n",
    "        if key not in self.__msg:\n",
    "            self.__msg[key] = self.__compute_factor2variable_msg(f_name, v_name)\n",
    "        return self.__msg[key]\n",
    "    \n",
    "    def __compute_factor2variable_msg(self, f_name, v_name):\n",
    "        incoming_messages = [self.__pgm.get_graph().vs.find(f_name)['factor_']]\n",
    "        marginalization_variables = []\n",
    "        for v_name_neighbor in self.__pgm.get_graph().vs[self.__pgm.get_graph().neighbors(f_name)]['name']:\n",
    "            if v_name_neighbor != v_name:\n",
    "                incoming_messages.append(self.get_variable2factor_msg(v_name_neighbor, f_name))\n",
    "                marginalization_variables.append(v_name_neighbor)\n",
    "        return self.__normalize_msg(factor_marginalization(\n",
    "            joint_distribution(incoming_messages),\n",
    "            marginalization_variables\n",
    "        ))\n",
    "    \n",
    "    # ----------------------- Other -------------------------\n",
    "    def __normalize_msg(self, message):\n",
    "        return factor(message.get_variables(), message.get_distribution()/np.sum(message.get_distribution()))"
   ]
  },
  {
   "cell_type": "markdown",
   "metadata": {},
   "source": [
    "#### Example\n",
    "\n",
    "Let's take a look at the following factor graph."
   ]
  },
  {
   "cell_type": "markdown",
   "metadata": {},
   "source": [
    "![](./img/4/1.1.png)"
   ]
  },
  {
   "cell_type": "code",
   "execution_count": 3,
   "metadata": {},
   "outputs": [],
   "source": [
    "mrf = string2factor_graph('f1(a,b)f2(b,c,d)f3(c)')"
   ]
  },
  {
   "cell_type": "code",
   "execution_count": 4,
   "metadata": {},
   "outputs": [],
   "source": [
    "f1 = factor(['a', 'b'],      np.array([[2,3],[6,4]]))\n",
    "f2 = factor(['b', 'd', 'c'], np.array([[[7,2,3],[1,5,2]],[[8,3,9],[6,4,2]]]))\n",
    "f3 = factor(['c'],           np.array([5, 1, 9]))"
   ]
  },
  {
   "cell_type": "code",
   "execution_count": 5,
   "metadata": {},
   "outputs": [],
   "source": [
    "mrf.change_factor_distribution('f1', f1)\n",
    "mrf.change_factor_distribution('f2', f2)\n",
    "mrf.change_factor_distribution('f3', f3)"
   ]
  },
  {
   "cell_type": "markdown",
   "metadata": {},
   "source": [
    "Run the algorithm to compute marginal distribution of ```b```"
   ]
  },
  {
   "cell_type": "code",
   "execution_count": 6,
   "metadata": {},
   "outputs": [
    {
     "data": {
      "text/plain": [
       "array([0.37398374, 0.62601626])"
      ]
     },
     "execution_count": 6,
     "metadata": {},
     "output_type": "execute_result"
    }
   ],
   "source": [
    "bp = belief_propagation(mrf)\n",
    "bp.belief('b').get_distribution()"
   ]
  },
  {
   "cell_type": "markdown",
   "metadata": {},
   "source": [
    "---"
   ]
  },
  {
   "cell_type": "markdown",
   "metadata": {},
   "source": [
    "## 2 Loopy BP"
   ]
  },
  {
   "cell_type": "code",
   "execution_count": 7,
   "metadata": {},
   "outputs": [],
   "source": [
    "class loopy_belief_propagation():\n",
    "    def __init__(self, pgm):\n",
    "        if type(pgm) is not factor_graph:\n",
    "            raise Exception('PGM is not a factor graph')\n",
    "        if not pgm.is_connected():\n",
    "            raise Exception('PGM is not connected')\n",
    "        if len(pgm.get_graph().es) - 1 == len(pgm.get_graph().vs):\n",
    "            raise Exception('PGM is a tree')\n",
    "        \n",
    "        self.__t       = 0\n",
    "        self.__msg     = {}\n",
    "        self.__msg_new = {}\n",
    "        self.__pgm     = pgm\n",
    "        \n",
    "        # Initialization of messages\n",
    "        for edge in self.__pgm.get_graph().es:\n",
    "            start_index, end_index = edge.tuple[0], edge.tuple[1]\n",
    "            start_name, end_name = self.__pgm.get_graph().vs[start_index]['name'], self.__pgm.get_graph().vs[end_index]['name']\n",
    "            \n",
    "            if self.__pgm.get_graph().vs[start_index]['is_factor']:\n",
    "                self.__msg[(start_name, end_name)] = factor([end_name],   np.array([1.]*self.__pgm.get_graph().vs[end_index]['rank']))\n",
    "            else:\n",
    "                self.__msg[(start_name, end_name)] = factor([start_name], np.array([1.]*self.__pgm.get_graph().vs[start_index]['rank']))\n",
    "            self.__msg[(end_name, start_name)] = self.__msg[(start_name, end_name)]\n",
    "            \n",
    "            self.__msg_new[(start_name, end_name)] = 0\n",
    "            self.__msg_new[(end_name, start_name)] = 0\n",
    "    \n",
    "    def belief(self, v_name, num_iter):\n",
    "        if self.__t > num_iter:\n",
    "            raise Exception('Invalid number of iterations. Current number: ' + str(self.__t))\n",
    "        elif self.__t < num_iter:\n",
    "            self.__loop(num_iter)\n",
    "        \n",
    "        incoming_messages = []\n",
    "        for f_name_neighbor in self.__pgm.get_graph().vs[self.__pgm.get_graph().neighbors(v_name)]['name']:\n",
    "            incoming_messages.append(self.get_factor2variable_msg(f_name_neighbor, v_name))\n",
    "        return self.__normalize_msg(joint_distribution(incoming_messages))\n",
    "    \n",
    "    # ----------------------- Variable to factor ------------\n",
    "    def get_variable2factor_msg(self, v_name, f_name):\n",
    "        return self.__msg[(v_name, f_name)]\n",
    "    \n",
    "    def __compute_variable2factor_msg(self, v_name, f_name):\n",
    "        incoming_messages = []\n",
    "        for f_name_neighbor in self.__pgm.get_graph().vs[self.__pgm.get_graph().neighbors(v_name)]['name']:\n",
    "            if f_name_neighbor != f_name:\n",
    "                incoming_messages.append(self.get_factor2variable_msg(f_name_neighbor, v_name))\n",
    "        \n",
    "        if not incoming_messages:\n",
    "            return factor([v_name], np.array([1]*self.__pgm.get_graph().vs.find(name=v_name)['rank']))\n",
    "        else:\n",
    "            return self.__normalize_msg(joint_distribution(incoming_messages))\n",
    "    \n",
    "    # ----------------------- Factor to variable ------------\n",
    "    def get_factor2variable_msg(self, f_name, v_name):\n",
    "        return self.__msg[(f_name, v_name)]\n",
    "    \n",
    "    def __compute_factor2variable_msg(self, f_name, v_name):\n",
    "        incoming_messages = [self.__pgm.get_graph().vs.find(f_name)['factor_']]\n",
    "        marginalization_variables = []\n",
    "        for v_name_neighbor in self.__pgm.get_graph().vs[self.__pgm.get_graph().neighbors(f_name)]['name']:\n",
    "            if v_name_neighbor != v_name:\n",
    "                incoming_messages.append(self.get_variable2factor_msg(v_name_neighbor, f_name))\n",
    "                marginalization_variables.append(v_name_neighbor)\n",
    "        return self.__normalize_msg(factor_marginalization(\n",
    "            joint_distribution(incoming_messages),\n",
    "            marginalization_variables\n",
    "        ))\n",
    "    \n",
    "    # ----------------------- Other -------------------------\n",
    "    def __loop(self, num_iter):\n",
    "        # Message updating\n",
    "        while self.__t < num_iter:\n",
    "            for edge in self.__pgm.get_graph().es:\n",
    "                start_index, end_index = edge.tuple[0], edge.tuple[1]\n",
    "                start_name, end_name   = self.__pgm.get_graph().vs[start_index]['name'], self.__pgm.get_graph().vs[end_index]['name']\n",
    "\n",
    "                if self.__pgm.get_graph().vs[start_index]['is_factor']:\n",
    "                    self.__msg_new[(start_name, end_name)] = self.__compute_factor2variable_msg(start_name, end_name)\n",
    "                    self.__msg_new[(end_name, start_name)] = self.__compute_variable2factor_msg(end_name, start_name)\n",
    "                else:\n",
    "                    self.__msg_new[(start_name, end_name)] = self.__compute_variable2factor_msg(start_name, end_name)\n",
    "                    self.__msg_new[(end_name, start_name)] = self.__compute_factor2variable_msg(end_name, start_name)\n",
    "            self.__msg.update(self.__msg_new)\n",
    "            self.__t += 1\n",
    "    \n",
    "    def __normalize_msg(self, message):\n",
    "        return factor(message.get_variables(), message.get_distribution()/np.sum(message.get_distribution()))"
   ]
  },
  {
   "cell_type": "markdown",
   "metadata": {},
   "source": [
    "#### Example\n",
    "\n",
    "Let's consider the following factor graph with a loop."
   ]
  },
  {
   "cell_type": "markdown",
   "metadata": {},
   "source": [
    "![](./img/4/1.2.png)"
   ]
  },
  {
   "cell_type": "code",
   "execution_count": 8,
   "metadata": {},
   "outputs": [],
   "source": [
    "mrf = string2factor_graph('f1(a,b)f2(a,c)f3(b,c)')"
   ]
  },
  {
   "cell_type": "code",
   "execution_count": 9,
   "metadata": {},
   "outputs": [],
   "source": [
    "f1 = factor(['a', 'b'],  np.array([[2,3],[6,4]]))\n",
    "f2 = factor(['a', 'c'],  np.array([[7,2,3],[1,5,2]]))\n",
    "f3 = factor(['b', 'c'],  np.array([[7,9,3],[6,4,2]]))"
   ]
  },
  {
   "cell_type": "code",
   "execution_count": 10,
   "metadata": {},
   "outputs": [],
   "source": [
    "mrf.change_factor_distribution('f1', f1)\n",
    "mrf.change_factor_distribution('f2', f2)\n",
    "mrf.change_factor_distribution('f3', f3)"
   ]
  },
  {
   "cell_type": "markdown",
   "metadata": {},
   "source": [
    "Firstly, let's compute exact marginal distribution of `b` and normalize it."
   ]
  },
  {
   "cell_type": "code",
   "execution_count": 14,
   "metadata": {},
   "outputs": [
    {
     "data": {
      "text/plain": [
       "array([0.63451777, 0.36548223])"
      ]
     },
     "execution_count": 14,
     "metadata": {},
     "output_type": "execute_result"
    }
   ],
   "source": [
    "exact = factor_marginalization(joint_distribution([f1, f2, f3]), ['a', 'c']).get_distribution()\n",
    "exact = exact / np.sum(exact)\n",
    "exact"
   ]
  },
  {
   "cell_type": "markdown",
   "metadata": {},
   "source": [
    "Secondly, we run the loopy belief propagation algorithm."
   ]
  },
  {
   "cell_type": "code",
   "execution_count": 15,
   "metadata": {},
   "outputs": [],
   "source": [
    "lbp = loopy_belief_propagation(mrf)\n",
    "tol = []\n",
    "\n",
    "for i in range(15):\n",
    "    tol.append(np.linalg.norm(lbp.belief('b', i).get_distribution() - exact))"
   ]
  },
  {
   "cell_type": "code",
   "execution_count": 16,
   "metadata": {},
   "outputs": [
    {
     "data": {
      "text/plain": [
       "[<matplotlib.lines.Line2D at 0xa1b876a90>]"
      ]
     },
     "execution_count": 16,
     "metadata": {},
     "output_type": "execute_result"
    },
    {
     "data": {
      "image/png": "[encoded data removed]",
      "text/plain": [
       "<Figure size 576x432 with 1 Axes>"
      ]
     },
     "metadata": {
      "needs_background": "light"
     },
     "output_type": "display_data"
    }
   ],
   "source": [
    "plt.figure(figsize=(8,6))\n",
    "plt.semilogy(tol, label=r\"$\\|b_k - b^*\\|_2$\", color='navy')\n",
    "plt.xlabel(r\"Number of iteration, $k$\", fontsize=15)\n",
    "plt.ylabel(r\"Convergence rate\", fontsize=15)\n",
    "plt.xticks(fontsize = 15)\n",
    "plt.yticks(fontsize = 15)\n",
    "plt.legend(loc=\"best\", fontsize=15)\n",
    "plt.plot(tol)"
   ]
  }
 ],
 "metadata": {
  "kernelspec": {
   "display_name": "Python 3",
   "language": "python",
   "name": "python3"
  },
  "language_info": {
   "codemirror_mode": {
    "name": "ipython",
    "version": 3
   },
   "file_extension": ".py",
   "mimetype": "text/x-python",
   "name": "python",
   "nbconvert_exporter": "python",
   "pygments_lexer": "ipython3",
   "version": "3.7.3"
  }
 },
 "nbformat": 4,
 "nbformat_minor": 2
}
