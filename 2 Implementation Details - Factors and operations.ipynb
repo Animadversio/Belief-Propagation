{
 "cells": [
  {
   "cell_type": "markdown",
   "metadata": {},
   "source": [
    "# Implementation Details - Factors and operations"
   ]
  },
  {
   "cell_type": "code",
   "execution_count": 1,
   "metadata": {},
   "outputs": [],
   "source": [
    "import numpy as np"
   ]
  },
  {
   "cell_type": "markdown",
   "metadata": {},
   "source": [
    "## 1 Factor data structure"
   ]
  },
  {
   "cell_type": "code",
   "execution_count": 2,
   "metadata": {},
   "outputs": [],
   "source": [
    "class factor:\n",
    "    # constructor\n",
    "    def __init__(self, variables = None, distribution = None):\n",
    "        validity = self.__is_valid(variables, distribution)\n",
    "        \n",
    "        if validity is None:\n",
    "            self.__set_data(None, None, None)\n",
    "        elif validity is False:\n",
    "            self.__raise_exception()\n",
    "        elif validity is True:\n",
    "            self.__set_data(variables, distribution, distribution.shape)\n",
    "            \n",
    "    def change_data(self, variables, distribution):\n",
    "        if __is_valid(variables, distribution) is not True:\n",
    "            __raise_exception()\n",
    "        else:\n",
    "            self.__set_data(variables, distribution, distribution.shape)\n",
    "    \n",
    "    def __set_data(self, variables, distribution, shape):\n",
    "        self.__variables    = np.array(variables)\n",
    "        self.__distribution = np.array(distribution)\n",
    "        self.__shape        = np.array(shape)\n",
    "    \n",
    "    # ----------------------- Info --------------------------\n",
    "    def is_none(self):\n",
    "        return True if (self.__variables is None) or (self.__distribution is None) else False\n",
    "    \n",
    "    @staticmethod\n",
    "    def __is_valid(variables, distribution):\n",
    "        if (variables is not None) or (distribution is None):\n",
    "            return True if len(variables) == len(distribution.shape) else False\n",
    "        else:\n",
    "            return None\n",
    "        \n",
    "    # ----------------------- Exceptions --------------------\n",
    "    @staticmethod\n",
    "    def __raise_exception():\n",
    "        raise Exception('Data is incorrect')\n",
    "    \n",
    "    # ----------------------- Getters -----------------------\n",
    "    def get_variables(self):\n",
    "        return self.__variables\n",
    "    \n",
    "    def get_distribution(self):\n",
    "        return self.__distribution\n",
    "    \n",
    "    def get_shape(self):\n",
    "        return self.__shape"
   ]
  },
  {
   "cell_type": "markdown",
   "metadata": {},
   "source": [
    "## 2 Factor operations"
   ]
  },
  {
   "cell_type": "markdown",
   "metadata": {},
   "source": [
    "### 2.1 Factor product"
   ]
  }
 ],
 "metadata": {
  "kernelspec": {
   "display_name": "Python 3",
   "language": "python",
   "name": "python3"
  },
  "language_info": {
   "codemirror_mode": {
    "name": "ipython",
    "version": 3
   },
   "file_extension": ".py",
   "mimetype": "text/x-python",
   "name": "python",
   "nbconvert_exporter": "python",
   "pygments_lexer": "ipython3",
   "version": "3.6.5"
  }
 },
 "nbformat": 4,
 "nbformat_minor": 2
}
